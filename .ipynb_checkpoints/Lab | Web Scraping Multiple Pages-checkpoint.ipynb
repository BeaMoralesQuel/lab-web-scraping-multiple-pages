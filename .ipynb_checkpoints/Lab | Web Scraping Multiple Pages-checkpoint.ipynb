{
 "cells": [
  {
   "cell_type": "markdown",
   "id": "dde65bbe",
   "metadata": {},
   "source": [
    "# Lab | Web Scraping Multiple Pages"
   ]
  },
  {
   "cell_type": "code",
   "execution_count": 181,
   "id": "8d3865f5",
   "metadata": {},
   "outputs": [],
   "source": [
    "# 1. import libraries\n",
    "from bs4 import BeautifulSoup\n",
    "import requests\n",
    "import pandas as pd\n",
    "import re\n",
    "import random\n",
    "from pandas.io.json import json_normalize\n",
    "import numpy as np\n",
    "import matplotlib.pyplot as plt\n",
    "from sklearn.preprocessing import StandardScaler\n",
    "import numpy as np\n",
    "from sklearn.metrics import silhouette_score\n",
    "from sklearn.model_selection import train_test_split\n",
    "from sklearn.decomposition import PCA    \n",
    "import matplotlib.pyplot as plt\n",
    "from sklearn.cluster import KMeans\n",
    "from sklearn.cluster import KMeans\n",
    "import numpy as np\n",
    "\n",
    "from random import randint\n",
    "from time import sleep\n",
    "import json"
   ]
  },
  {
   "cell_type": "markdown",
   "id": "cac8a586",
   "metadata": {},
   "source": [
    "Display the top 10 languages by number of native speakers stored in a pandas dataframe: url = 'https://en.wikipedia.org/wiki/List_of_languages_by_number_of_native_speakers'"
   ]
  },
  {
   "cell_type": "code",
   "execution_count": 38,
   "id": "27673494",
   "metadata": {},
   "outputs": [],
   "source": [
    "# 1.attribute url\n",
    "\n",
    "url = \"https://en.wikipedia.org/wiki/List_of_languages_by_number_of_native_speakers\""
   ]
  },
  {
   "cell_type": "code",
   "execution_count": 39,
   "id": "d1640bd2",
   "metadata": {},
   "outputs": [
    {
     "data": {
      "text/plain": [
       "200"
      ]
     },
     "execution_count": 39,
     "metadata": {},
     "output_type": "execute_result"
    }
   ],
   "source": [
    "# 2.download html with a get request\n",
    "\n",
    "response = requests.get(url)\n",
    "response.status_code # 200 status code means OK!"
   ]
  },
  {
   "cell_type": "code",
   "execution_count": 40,
   "id": "39b318df",
   "metadata": {},
   "outputs": [],
   "source": [
    "# 3.parse html (create the 'soup')\n",
    "\n",
    "soup = BeautifulSoup(response.content, \"html.parser\")\n",
    "#soup"
   ]
  },
  {
   "cell_type": "code",
   "execution_count": 41,
   "id": "2cf43851",
   "metadata": {},
   "outputs": [
    {
     "data": {
      "text/plain": [
       "[<a href=\"/wiki/Mandarin_Chinese\" title=\"Mandarin Chinese\">Mandarin Chinese</a>,\n",
       " <a href=\"/wiki/Spanish_language\" title=\"Spanish language\">Spanish</a>,\n",
       " <a href=\"/wiki/English_language\" title=\"English language\">English</a>,\n",
       " <a class=\"mw-redirect\" href=\"/wiki/Arabic_language\" title=\"Arabic language\">Arabic</a>,\n",
       " <a class=\"mw-redirect\" href=\"/wiki/Hindi_language\" title=\"Hindi language\">Hindi</a>,\n",
       " <a href=\"/wiki/Bengali_language\" title=\"Bengali language\">Bengali</a>,\n",
       " <a href=\"/wiki/Portuguese_language\" title=\"Portuguese language\">Portuguese</a>,\n",
       " <a href=\"/wiki/Russian_language\" title=\"Russian language\">Russian</a>,\n",
       " <a href=\"/wiki/Japanese_language\" title=\"Japanese language\">Japanese</a>,\n",
       " <a href=\"/wiki/Lahnda\" title=\"Lahnda\">Western Punjabi</a>,\n",
       " <a href=\"/wiki/Javanese_language\" title=\"Javanese language\">Javanese</a>]"
      ]
     },
     "execution_count": 41,
     "metadata": {},
     "output_type": "execute_result"
    }
   ],
   "source": [
    "# 4. put the Selector copied from Chrome Dev Tools\n",
    "\n",
    "table = soup.select(\"table\")[1]\n",
    "table.select(\"tbody tr td a\")"
   ]
  },
  {
   "cell_type": "code",
   "execution_count": 47,
   "id": "f42b1f26",
   "metadata": {},
   "outputs": [
    {
     "name": "stdout",
     "output_type": "stream",
     "text": [
      "Mandarin Chinese\n",
      "Spanish\n",
      "English\n",
      "Arabic\n",
      "Hindi\n",
      "Bengali\n",
      "Portuguese\n",
      "Russian\n",
      "Japanese\n",
      "Western Punjabi\n"
     ]
    }
   ],
   "source": [
    "# 5. Create a list to put the info in\n",
    "\n",
    "languages = []\n",
    "count = 0\n",
    "for e in table.select(\"tbody tr td a\"):\n",
    "    if count < 10:\n",
    "        language = e.get_text()\n",
    "        print(language)\n",
    "        if language is not None:\n",
    "            languages.append(e.get_text())   \n",
    "        count = count +1"
   ]
  },
  {
   "cell_type": "code",
   "execution_count": 48,
   "id": "07a4421c",
   "metadata": {},
   "outputs": [],
   "source": [
    "top10_languages = pd.DataFrame({\"top10_languages\":languages})"
   ]
  },
  {
   "cell_type": "code",
   "execution_count": 49,
   "id": "889375b9",
   "metadata": {},
   "outputs": [
    {
     "data": {
      "text/html": [
       "<div>\n",
       "<style scoped>\n",
       "    .dataframe tbody tr th:only-of-type {\n",
       "        vertical-align: middle;\n",
       "    }\n",
       "\n",
       "    .dataframe tbody tr th {\n",
       "        vertical-align: top;\n",
       "    }\n",
       "\n",
       "    .dataframe thead th {\n",
       "        text-align: right;\n",
       "    }\n",
       "</style>\n",
       "<table border=\"1\" class=\"dataframe\">\n",
       "  <thead>\n",
       "    <tr style=\"text-align: right;\">\n",
       "      <th></th>\n",
       "      <th>top10_languages</th>\n",
       "    </tr>\n",
       "  </thead>\n",
       "  <tbody>\n",
       "    <tr>\n",
       "      <th>0</th>\n",
       "      <td>Mandarin Chinese</td>\n",
       "    </tr>\n",
       "    <tr>\n",
       "      <th>1</th>\n",
       "      <td>Spanish</td>\n",
       "    </tr>\n",
       "    <tr>\n",
       "      <th>2</th>\n",
       "      <td>English</td>\n",
       "    </tr>\n",
       "    <tr>\n",
       "      <th>3</th>\n",
       "      <td>Arabic</td>\n",
       "    </tr>\n",
       "    <tr>\n",
       "      <th>4</th>\n",
       "      <td>Hindi</td>\n",
       "    </tr>\n",
       "    <tr>\n",
       "      <th>5</th>\n",
       "      <td>Bengali</td>\n",
       "    </tr>\n",
       "    <tr>\n",
       "      <th>6</th>\n",
       "      <td>Portuguese</td>\n",
       "    </tr>\n",
       "    <tr>\n",
       "      <th>7</th>\n",
       "      <td>Russian</td>\n",
       "    </tr>\n",
       "    <tr>\n",
       "      <th>8</th>\n",
       "      <td>Japanese</td>\n",
       "    </tr>\n",
       "    <tr>\n",
       "      <th>9</th>\n",
       "      <td>Western Punjabi</td>\n",
       "    </tr>\n",
       "  </tbody>\n",
       "</table>\n",
       "</div>"
      ],
      "text/plain": [
       "    top10_languages\n",
       "0  Mandarin Chinese\n",
       "1           Spanish\n",
       "2           English\n",
       "3            Arabic\n",
       "4             Hindi\n",
       "5           Bengali\n",
       "6        Portuguese\n",
       "7           Russian\n",
       "8          Japanese\n",
       "9   Western Punjabi"
      ]
     },
     "execution_count": 49,
     "metadata": {},
     "output_type": "execute_result"
    }
   ],
   "source": [
    "top10_languages"
   ]
  },
  {
   "cell_type": "markdown",
   "id": "986bdbc5",
   "metadata": {},
   "source": [
    "Retrieve an arbitrary Wikipedia page of \"Python\" and create a list of links on that page: url ='https://en.wikipedia.org/wiki/Python'\n"
   ]
  },
  {
   "cell_type": "code",
   "execution_count": 137,
   "id": "8f6f679e",
   "metadata": {},
   "outputs": [],
   "source": [
    "# 1.attribute url\n",
    "\n",
    "url = \"https://en.wikipedia.org/wiki/Python_(mythology)\""
   ]
  },
  {
   "cell_type": "code",
   "execution_count": 138,
   "id": "55381b02",
   "metadata": {},
   "outputs": [
    {
     "data": {
      "text/plain": [
       "200"
      ]
     },
     "execution_count": 138,
     "metadata": {},
     "output_type": "execute_result"
    }
   ],
   "source": [
    "# 2.download html with a get request\n",
    "\n",
    "response = requests.get(url)\n",
    "response.status_code # 200 status code means OK!"
   ]
  },
  {
   "cell_type": "code",
   "execution_count": 224,
   "id": "6d7fb94c",
   "metadata": {},
   "outputs": [],
   "source": [
    "# 3.parse html (create the 'soup')\n",
    "\n",
    "soup = BeautifulSoup(response.content, \"html.parser\")\n",
    "#soup"
   ]
  },
  {
   "cell_type": "code",
   "execution_count": 221,
   "id": "6cd3780a",
   "metadata": {},
   "outputs": [
    {
     "name": "stdout",
     "output_type": "stream",
     "text": [
      "/wiki/Pythia\n",
      "/wiki/Gaia_(mythology)\n",
      "/wiki/Axis_mundi#Places\n",
      "/wiki/Chthonic\n",
      "/wiki/Apollo\n",
      "/wiki/Drakaina_(mythology)\n",
      "/wiki/Gaius_Julius_Hyginus\n",
      "/wiki/Zeus\n",
      "/wiki/Leto\n",
      "/wiki/Artemis\n",
      "/wiki/Hera\n",
      "/wiki/Mount_Parnassus\n",
      "/wiki/Robert_Graves\n",
      "/wiki/Greeks\n",
      "/wiki/Clearchus_of_Soli\n",
      "/wiki/Sacrilege\n",
      "/wiki/Pythian_Games\n",
      "/wiki/Erwin_Rohde\n",
      "/wiki/Delphi\n",
      "/wiki/Hyperion_(mythology)\n",
      "/wiki/Helios\n",
      "/wiki/Karl_Kerenyi\n",
      "/wiki/Delphyne\n",
      "/wiki/Typhon\n",
      "/wiki/Titanomachy\n",
      "/wiki/Daemon_(classical_mythology)\n",
      "/wiki/Minoan_civilization\n"
     ]
    }
   ],
   "source": [
    "wikis = []\n",
    "for w in soup.select(\"#mw-content-text > div.mw-parser-output > meta > p > a\"):\n",
    "    \n",
    "    wiki = w.get (\"href\")\n",
    "    print (wiki)\n",
    "    if wiki is not None:\n",
    "        wikis.append (w[\"href\"])"
   ]
  },
  {
   "cell_type": "code",
   "execution_count": 222,
   "id": "00931522",
   "metadata": {},
   "outputs": [
    {
     "data": {
      "text/plain": [
       "27"
      ]
     },
     "execution_count": 222,
     "metadata": {},
     "output_type": "execute_result"
    }
   ],
   "source": [
    "len(wikis)\n"
   ]
  },
  {
   "cell_type": "code",
   "execution_count": 223,
   "id": "08f80e12",
   "metadata": {},
   "outputs": [
    {
     "data": {
      "text/plain": [
       "['https://en.wikipedia.org/wiki/Pythia',\n",
       " 'https://en.wikipedia.org/wiki/Gaia_(mythology)',\n",
       " 'https://en.wikipedia.org/wiki/Axis_mundi#Places',\n",
       " 'https://en.wikipedia.org/wiki/Chthonic',\n",
       " 'https://en.wikipedia.org/wiki/Apollo',\n",
       " 'https://en.wikipedia.org/wiki/Drakaina_(mythology)',\n",
       " 'https://en.wikipedia.org/wiki/Gaius_Julius_Hyginus',\n",
       " 'https://en.wikipedia.org/wiki/Zeus',\n",
       " 'https://en.wikipedia.org/wiki/Leto',\n",
       " 'https://en.wikipedia.org/wiki/Artemis',\n",
       " 'https://en.wikipedia.org/wiki/Hera',\n",
       " 'https://en.wikipedia.org/wiki/Mount_Parnassus',\n",
       " 'https://en.wikipedia.org/wiki/Robert_Graves',\n",
       " 'https://en.wikipedia.org/wiki/Greeks',\n",
       " 'https://en.wikipedia.org/wiki/Clearchus_of_Soli',\n",
       " 'https://en.wikipedia.org/wiki/Sacrilege',\n",
       " 'https://en.wikipedia.org/wiki/Pythian_Games',\n",
       " 'https://en.wikipedia.org/wiki/Erwin_Rohde',\n",
       " 'https://en.wikipedia.org/wiki/Delphi',\n",
       " 'https://en.wikipedia.org/wiki/Hyperion_(mythology)',\n",
       " 'https://en.wikipedia.org/wiki/Helios',\n",
       " 'https://en.wikipedia.org/wiki/Karl_Kerenyi',\n",
       " 'https://en.wikipedia.org/wiki/Delphyne',\n",
       " 'https://en.wikipedia.org/wiki/Typhon',\n",
       " 'https://en.wikipedia.org/wiki/Titanomachy',\n",
       " 'https://en.wikipedia.org/wiki/Daemon_(classical_mythology)',\n",
       " 'https://en.wikipedia.org/wiki/Minoan_civilization']"
      ]
     },
     "execution_count": 223,
     "metadata": {},
     "output_type": "execute_result"
    }
   ],
   "source": [
    "links = []\n",
    "for wiki in wikis:\n",
    "    url = \"https://en.wikipedia.org\" + wiki\n",
    "    links.append (url)\n",
    "links"
   ]
  },
  {
   "cell_type": "code",
   "execution_count": null,
   "id": "b6854cf5",
   "metadata": {},
   "outputs": [],
   "source": []
  },
  {
   "cell_type": "markdown",
   "id": "dfd43f4d",
   "metadata": {},
   "source": [
    "A list with the different kind of datasets available in data.gov.uk"
   ]
  },
  {
   "cell_type": "code",
   "execution_count": 251,
   "id": "b9550e09",
   "metadata": {},
   "outputs": [],
   "source": [
    "# 1.attribute url\n",
    "\n",
    "url = 'https://www.data.gov.uk/'"
   ]
  },
  {
   "cell_type": "code",
   "execution_count": 252,
   "id": "430b6fd3",
   "metadata": {},
   "outputs": [
    {
     "data": {
      "text/plain": [
       "200"
      ]
     },
     "execution_count": 252,
     "metadata": {},
     "output_type": "execute_result"
    }
   ],
   "source": [
    "# 2.download html with a get request\n",
    "\n",
    "response = requests.get(url)\n",
    "response.status_code # 200 status code means OK!"
   ]
  },
  {
   "cell_type": "code",
   "execution_count": 253,
   "id": "0cc49177",
   "metadata": {},
   "outputs": [],
   "source": [
    "# 3.parse html (create the 'soup')\n",
    "\n",
    "soup = BeautifulSoup(response.content, \"html.parser\")\n",
    "#soup"
   ]
  },
  {
   "cell_type": "code",
   "execution_count": 254,
   "id": "cd83d305",
   "metadata": {},
   "outputs": [
    {
     "data": {
      "text/plain": [
       "'Business and economy'"
      ]
     },
     "execution_count": 254,
     "metadata": {},
     "output_type": "execute_result"
    }
   ],
   "source": [
    "# 4. put the Selector copied from Chrome Dev Tools\n",
    "\n",
    "soup.select(\"h3 > a\")[0].get_text()"
   ]
  },
  {
   "cell_type": "code",
   "execution_count": 255,
   "id": "fca7560a",
   "metadata": {},
   "outputs": [],
   "source": [
    "dataset = []\n",
    "num_iter = len(soup.select (\"h3 > a\"))\n",
    "for i in range (num_iter):\n",
    "    link = soup.select (\"h3 > a\")[i].get_text()\n",
    "    dataset.append(link)"
   ]
  },
  {
   "cell_type": "code",
   "execution_count": 256,
   "id": "de3baa43",
   "metadata": {},
   "outputs": [
    {
     "data": {
      "text/plain": [
       "['Business and economy',\n",
       " 'Crime and justice',\n",
       " 'Defence',\n",
       " 'Education',\n",
       " 'Environment',\n",
       " 'Government',\n",
       " 'Government spending',\n",
       " 'Health',\n",
       " 'Mapping',\n",
       " 'Society',\n",
       " 'Towns and cities',\n",
       " 'Transport',\n",
       " 'Digital service performance',\n",
       " 'Government reference data']"
      ]
     },
     "execution_count": 256,
     "metadata": {},
     "output_type": "execute_result"
    }
   ],
   "source": [
    "dataset"
   ]
  },
  {
   "cell_type": "code",
   "execution_count": null,
   "id": "c4d84761",
   "metadata": {},
   "outputs": [],
   "source": []
  }
 ],
 "metadata": {
  "kernelspec": {
   "display_name": "Python 3 (ipykernel)",
   "language": "python",
   "name": "python3"
  },
  "language_info": {
   "codemirror_mode": {
    "name": "ipython",
    "version": 3
   },
   "file_extension": ".py",
   "mimetype": "text/x-python",
   "name": "python",
   "nbconvert_exporter": "python",
   "pygments_lexer": "ipython3",
   "version": "3.10.9"
  }
 },
 "nbformat": 4,
 "nbformat_minor": 5
}
